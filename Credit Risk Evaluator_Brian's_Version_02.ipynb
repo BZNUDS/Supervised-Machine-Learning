{
 "cells": [
  {
   "cell_type": "code",
   "execution_count": 1,
   "metadata": {},
   "outputs": [],
   "source": [
    "import numpy as np\n",
    "import pandas as pd\n",
    "from pathlib import Path"
   ]
  },
  {
   "cell_type": "code",
   "execution_count": 2,
   "metadata": {},
   "outputs": [
    {
     "data": {
      "text/plain": [
       "'c:\\\\Users\\\\BZ Northwestern BC\\\\Class\\\\Supervised-Machine-Learning'"
      ]
     },
     "execution_count": 2,
     "metadata": {},
     "output_type": "execute_result"
    }
   ],
   "source": [
    "pwd"
   ]
  },
  {
   "cell_type": "code",
   "execution_count": 3,
   "metadata": {},
   "outputs": [],
   "source": [
    "# train_df = pd.read_csv(Path('Resources/2019loans.csv'))\n",
    "# test_df = pd.read_csv(Path('Resources/2020Q1loans.csv'))\n",
    "train_df = pd.read_csv(Path('Resources/Generator/2019loans.csv'))\n",
    "test_df = pd.read_csv(Path('Resources/Generator/2020Q1loans.csv'))"
   ]
  },
  {
   "cell_type": "code",
   "execution_count": 8,
   "metadata": {},
   "outputs": [
    {
     "name": "stdout",
     "output_type": "stream",
     "text": [
      "train_df        loan_amnt  int_rate  installment home_ownership  annual_inc  \\\n",
      "0         7000.0    0.1894       256.38       MORTGAGE     75000.0   \n",
      "1        40000.0    0.1614       975.71       MORTGAGE    102000.0   \n",
      "2        11000.0    0.2055       294.81           RENT     45000.0   \n",
      "3         4000.0    0.1612       140.87       MORTGAGE     38000.0   \n",
      "4        14000.0    0.1797       505.93       MORTGAGE     43000.0   \n",
      "...          ...       ...          ...            ...         ...   \n",
      "12175    19975.0    0.2565       801.09           RENT     28000.0   \n",
      "12176    15000.0    0.1774       540.34           RENT     50000.0   \n",
      "12177     3600.0    0.1862       131.28           RENT     60000.0   \n",
      "12178    15000.0    0.0881       475.68       MORTGAGE     62000.0   \n",
      "12179    15000.0    0.1774       540.34           RENT     54080.0   \n",
      "\n",
      "      verification_status pymnt_plan    dti  delinq_2yrs  inq_last_6mths  ...  \\\n",
      "0            Not Verified          n  28.62          0.0             2.0  ...   \n",
      "1         Source Verified          n  11.72          2.0             0.0  ...   \n",
      "2                Verified          n  37.25          1.0             3.0  ...   \n",
      "3            Not Verified          n  42.89          1.0             0.0  ...   \n",
      "4         Source Verified          n  22.16          1.0             0.0  ...   \n",
      "...                   ...        ...    ...          ...             ...  ...   \n",
      "12175        Not Verified          n  28.42          0.0             0.0  ...   \n",
      "12176            Verified          n  23.43          4.0             0.0  ...   \n",
      "12177        Not Verified          n  28.80          0.0             1.0  ...   \n",
      "12178     Source Verified          n  11.44          0.0             0.0  ...   \n",
      "12179        Not Verified          n  21.66          1.0             1.0  ...   \n",
      "\n",
      "       percent_bc_gt_75  pub_rec_bankruptcies  tax_liens  tot_hi_cred_lim  \\\n",
      "0                  87.5                   0.0        0.0         352260.0   \n",
      "1                   0.0                   0.0        0.0         294664.0   \n",
      "2                   7.7                   0.0        0.0          92228.0   \n",
      "3                 100.0                   0.0        0.0         284273.0   \n",
      "4                  25.0                   0.0        0.0         120280.0   \n",
      "...                 ...                   ...        ...              ...   \n",
      "12175              16.7                   0.0        0.0          50055.0   \n",
      "12176              11.1                   0.0        0.0          70324.0   \n",
      "12177               0.0                   0.0        0.0          83765.0   \n",
      "12178               0.0                   0.0        0.0         189930.0   \n",
      "12179             100.0                   0.0        0.0          48968.0   \n",
      "\n",
      "      total_bal_ex_mort  total_bc_limit  total_il_high_credit_limit  \\\n",
      "0               62666.0         35000.0                     10000.0   \n",
      "1              109911.0          9000.0                     71044.0   \n",
      "2               36007.0         33000.0                     46328.0   \n",
      "3               52236.0         13500.0                     52017.0   \n",
      "4               88147.0         33300.0                     78680.0   \n",
      "...                 ...             ...                         ...   \n",
      "12175           28192.0         18700.0                     19055.0   \n",
      "12176           57025.0         13300.0                     54824.0   \n",
      "12177           55156.0         14800.0                     53065.0   \n",
      "12178           23748.0          7000.0                     32930.0   \n",
      "12179           29786.0          2900.0                     33968.0   \n",
      "\n",
      "       hardship_flag  debt_settlement_flag     target  \n",
      "0                  N                     N   low_risk  \n",
      "1                  N                     N   low_risk  \n",
      "2                  N                     N   low_risk  \n",
      "3                  N                     N   low_risk  \n",
      "4                  N                     N   low_risk  \n",
      "...              ...                   ...        ...  \n",
      "12175              N                     N  high_risk  \n",
      "12176              N                     N  high_risk  \n",
      "12177              N                     N  high_risk  \n",
      "12178              N                     N  high_risk  \n",
      "12179              N                     N  high_risk  \n",
      "\n",
      "[12180 rows x 84 columns]\n"
     ]
    }
   ],
   "source": [
    "print(\"train_df\", train_df)\n",
    "# print(\"test_df\", test_df)"
   ]
  },
  {
   "cell_type": "code",
   "execution_count": 9,
   "metadata": {},
   "outputs": [
    {
     "name": "stdout",
     "output_type": "stream",
     "text": [
      "test_df       loan_amnt  int_rate  installment home_ownership  annual_inc  \\\n",
      "0       40000.0    0.1033       856.40           RENT    128700.0   \n",
      "1       24450.0    0.1430       572.72       MORTGAGE     44574.0   \n",
      "2       13500.0    0.1430       316.23            OWN     60000.0   \n",
      "3       10625.0    0.1774       268.31           RENT     60000.0   \n",
      "4        6375.0    0.1862       232.46           RENT     60000.0   \n",
      "...         ...       ...          ...            ...         ...   \n",
      "4697    30000.0    0.1240       673.42           RENT    140480.0   \n",
      "4698    24000.0    0.0756       747.22           RENT     50000.0   \n",
      "4699    10000.0    0.2305       387.36           RENT     33000.0   \n",
      "4700     8000.0    0.1862       205.86           RENT     38000.0   \n",
      "4701    30000.0    0.2055      1123.34           RENT    180000.0   \n",
      "\n",
      "     verification_status pymnt_plan    dti  delinq_2yrs  inq_last_6mths  ...  \\\n",
      "0        Source Verified          n  12.47          0.0             1.0  ...   \n",
      "1           Not Verified          n  15.05          0.0             1.0  ...   \n",
      "2           Not Verified          n  28.72          0.0             0.0  ...   \n",
      "3               Verified          n  15.70          0.0             4.0  ...   \n",
      "4        Source Verified          n  35.50          0.0             0.0  ...   \n",
      "...                  ...        ...    ...          ...             ...  ...   \n",
      "4697     Source Verified          n  15.74          0.0             0.0  ...   \n",
      "4698        Not Verified          n  26.81          0.0             0.0  ...   \n",
      "4699            Verified          n  38.51          0.0             2.0  ...   \n",
      "4700     Source Verified          n  16.36          0.0             1.0  ...   \n",
      "4701     Source Verified          n  12.06          0.0             0.0  ...   \n",
      "\n",
      "      percent_bc_gt_75  pub_rec_bankruptcies  tax_liens  tot_hi_cred_lim  \\\n",
      "0                 57.1                   0.0        0.0          63915.0   \n",
      "1                  0.0                   0.0        0.0         136425.0   \n",
      "2                  0.0                   0.0        0.0          82124.0   \n",
      "3                 20.0                   0.0        0.0          54855.0   \n",
      "4                 75.0                   0.0        0.0          90445.0   \n",
      "...                ...                   ...        ...              ...   \n",
      "4697              28.6                   0.0        0.0         159688.0   \n",
      "4698               0.0                   0.0        0.0          62375.0   \n",
      "4699               0.0                   0.0        0.0          43250.0   \n",
      "4700               0.0                   1.0        0.0          31357.0   \n",
      "4701              33.3                   0.0        0.0         218686.0   \n",
      "\n",
      "     total_bal_ex_mort  total_bc_limit  total_il_high_credit_limit  \\\n",
      "0              49510.0         49400.0                     14515.0   \n",
      "1              19439.0         15500.0                     18925.0   \n",
      "2              65000.0          5400.0                     61724.0   \n",
      "3              50335.0         23200.0                     26255.0   \n",
      "4              56541.0         15300.0                     72345.0   \n",
      "...                ...             ...                         ...   \n",
      "4697          110873.0         48400.0                    107388.0   \n",
      "4698           18928.0         13300.0                     30775.0   \n",
      "4699           33022.0          8500.0                     29550.0   \n",
      "4700           19595.0          1500.0                      9657.0   \n",
      "4701          209389.0          5600.0                    209986.0   \n",
      "\n",
      "      hardship_flag  debt_settlement_flag     target  \n",
      "0                 Y                     N   low_risk  \n",
      "1                 N                     N   low_risk  \n",
      "2                 Y                     N   low_risk  \n",
      "3                 N                     N   low_risk  \n",
      "4                 N                     N   low_risk  \n",
      "...             ...                   ...        ...  \n",
      "4697              N                     N  high_risk  \n",
      "4698              N                     N  high_risk  \n",
      "4699              N                     N  high_risk  \n",
      "4700              N                     N  high_risk  \n",
      "4701              N                     N  high_risk  \n",
      "\n",
      "[4702 rows x 84 columns]\n"
     ]
    }
   ],
   "source": [
    "print(\"test_df\", test_df)"
   ]
  },
  {
   "cell_type": "code",
   "execution_count": null,
   "metadata": {},
   "outputs": [],
   "source": [
    "\n",
    "# WIP as of 060222 at 1051\n",
    "\n",
    "# # Convert categorical data to numeric and separate target feature for training data\n",
    "# # Drop the label to create the X data\n",
    "# X = train_df.drop('target', axis=1)\n",
    "# print(\"X\",X)\n",
    "\n",
    "# # One-hot encoding the 'workclass' column creates 9 new columns, one for each category\n",
    "# pd.get_dummies(X['workclass'])"
   ]
  },
  {
   "cell_type": "code",
   "execution_count": 1,
   "metadata": {},
   "outputs": [],
   "source": [
    "# Convert categorical data to numeric and separate target feature for testing data"
   ]
  },
  {
   "cell_type": "code",
   "execution_count": null,
   "metadata": {},
   "outputs": [],
   "source": [
    "# add missing dummy variables to testing set"
   ]
  },
  {
   "cell_type": "code",
   "execution_count": null,
   "metadata": {},
   "outputs": [],
   "source": [
    "# My prediction as to which model I think will perform better:\n",
    "#  \n",
    "# \n",
    "# \n"
   ]
  },
  {
   "cell_type": "code",
   "execution_count": null,
   "metadata": {},
   "outputs": [],
   "source": [
    "# Train the Logistic Regression model on the unscaled data and print the model score"
   ]
  },
  {
   "cell_type": "code",
   "execution_count": null,
   "metadata": {},
   "outputs": [],
   "source": [
    "# Train a Random Forest Classifier model and print the model score"
   ]
  },
  {
   "cell_type": "code",
   "execution_count": null,
   "metadata": {},
   "outputs": [],
   "source": [
    "# Scale the data"
   ]
  },
  {
   "cell_type": "code",
   "execution_count": null,
   "metadata": {},
   "outputs": [],
   "source": [
    "# Train the Logistic Regression model on the scaled data and print the model score"
   ]
  },
  {
   "cell_type": "code",
   "execution_count": null,
   "metadata": {},
   "outputs": [],
   "source": [
    "# Train a Random Forest Classifier model on the scaled data and print the model score"
   ]
  }
 ],
 "metadata": {
  "interpreter": {
   "hash": "b88f61ef58f72c2cebb5d80bb4426e47d7c85dd0b08e5db2434fb5acee90a9e0"
  },
  "kernelspec": {
   "display_name": "Python 3.9.7 ('base')",
   "language": "python",
   "name": "python3"
  },
  "language_info": {
   "codemirror_mode": {
    "name": "ipython",
    "version": 3
   },
   "file_extension": ".py",
   "mimetype": "text/x-python",
   "name": "python",
   "nbconvert_exporter": "python",
   "pygments_lexer": "ipython3",
   "version": "3.9.7"
  }
 },
 "nbformat": 4,
 "nbformat_minor": 4
}
